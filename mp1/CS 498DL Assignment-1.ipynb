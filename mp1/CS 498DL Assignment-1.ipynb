{
 "cells": [
  {
   "cell_type": "code",
   "execution_count": 1,
   "metadata": {},
   "outputs": [],
   "source": [
    "import random\n",
    "import numpy as np\n",
    "from data_process import get_CIFAR10_data, get_MUSHROOM_data\n",
    "from scipy.spatial import distance\n",
    "from models import Perceptron, SVM, Softmax, Logistic\n",
    "from kaggle_submission import output_submission_csv\n",
    "%matplotlib inline"
   ]
  },
  {
   "cell_type": "markdown",
   "metadata": {},
   "source": [
    "# Loading CIFAR-10"
   ]
  },
  {
   "cell_type": "markdown",
   "metadata": {},
   "source": [
    "In the following cells we determine the number of images for each split and load the images.\n",
    "<br /> \n",
    "TRAIN_IMAGES + VAL_IMAGES = (0, 50000]\n",
    ", TEST_IMAGES = 10000"
   ]
  },
  {
   "cell_type": "code",
   "execution_count": 2,
   "metadata": {},
   "outputs": [],
   "source": [
    "# You can change these numbers for experimentation\n",
    "# For submission we will use the default values \n",
    "TRAIN_IMAGES = 40000\n",
    "VAL_IMAGES = 10000"
   ]
  },
  {
   "cell_type": "code",
   "execution_count": 3,
   "metadata": {},
   "outputs": [],
   "source": [
    "data = get_CIFAR10_data(TRAIN_IMAGES, VAL_IMAGES)\n",
    "X_train_CIFAR, y_train_CIFAR = data['X_train'], data['y_train']\n",
    "X_val_CIFAR, y_val_CIFAR = data['X_val'], data['y_val']\n",
    "X_test_CIFAR, y_test_CIFAR = data['X_test'], data['y_test']\n",
    "n_class_CIFAR = len(np.unique(y_test_CIFAR))"
   ]
  },
  {
   "cell_type": "markdown",
   "metadata": {},
   "source": [
    "Convert the sets of images from dimensions of **(N, 3, 32, 32) -> (N, 3072)** where N is the number of images so that each **3x32x32** image is represented by a single vector."
   ]
  },
  {
   "cell_type": "code",
   "execution_count": 4,
   "metadata": {},
   "outputs": [],
   "source": [
    "X_train_CIFAR = np.reshape(X_train_CIFAR, (X_train_CIFAR.shape[0], -1))\n",
    "X_val_CIFAR = np.reshape(X_val_CIFAR, (X_val_CIFAR.shape[0], -1))\n",
    "X_test_CIFAR = np.reshape(X_test_CIFAR, (X_test_CIFAR.shape[0], -1))"
   ]
  },
  {
   "cell_type": "markdown",
   "metadata": {},
   "source": [
    "# Loading Mushroom"
   ]
  },
  {
   "cell_type": "markdown",
   "metadata": {},
   "source": [
    "In the following cells we determine the splitting of the mushroom dataset.\n",
    "<br /> TRAINING + VALIDATION = 0.8, TESTING = 0.2"
   ]
  },
  {
   "cell_type": "code",
   "execution_count": 5,
   "metadata": {},
   "outputs": [],
   "source": [
    "# TRAINING = 0.6 indicates 60% of the data is used as the training dataset.\n",
    "VALIDATION = 0.2"
   ]
  },
  {
   "cell_type": "code",
   "execution_count": 6,
   "metadata": {
    "tags": []
   },
   "outputs": [
    {
     "output_type": "stream",
     "name": "stdout",
     "text": "Number of train samples:  4874\nNumber of val samples:  1625\nNumber of test samples:  1625\n"
    }
   ],
   "source": [
    "data = get_MUSHROOM_data(VALIDATION)\n",
    "X_train_MR, y_train_MR = data['X_train'], data['y_train']\n",
    "X_val_MR, y_val_MR = data['X_val'], data['y_val']\n",
    "X_test_MR, y_test_MR = data['X_test'], data['y_test']\n",
    "n_class_MR = len(np.unique(y_test_MR))\n",
    "\n",
    "print(\"Number of train samples: \", X_train_MR.shape[0])\n",
    "print(\"Number of val samples: \", X_val_MR.shape[0])\n",
    "print(\"Number of test samples: \", X_test_MR.shape[0])"
   ]
  },
  {
   "cell_type": "markdown",
   "metadata": {},
   "source": [
    "### Get Accuracy"
   ]
  },
  {
   "cell_type": "markdown",
   "metadata": {},
   "source": [
    "This function computes how well your model performs using accuracy as a metric."
   ]
  },
  {
   "cell_type": "code",
   "execution_count": 7,
   "metadata": {},
   "outputs": [],
   "source": [
    "def get_acc(pred, y_test):\n",
    "    return np.sum(y_test==pred)/len(y_test)*100"
   ]
  },
  {
   "cell_type": "markdown",
   "metadata": {},
   "source": [
    "# Perceptron"
   ]
  },
  {
   "cell_type": "markdown",
   "metadata": {},
   "source": [
    "Perceptron has 2 hyperparameters that you can experiment with:\n",
    "- **Learning rate** - controls how much we change the current weights of the classifier during each update. We set it at a default value of 0.5, but you should experiment with different values. We recommend changing the learning rate by factors of 10 and observing how the performance of the classifier changes. You should also try adding a **decay** which slowly reduces the learning rate over each epoch.\n",
    "- **Number of Epochs** - An epoch is a complete iterative pass over all of the data in the dataset. During an epoch we predict a label using the classifier and then update the weights of the classifier according the perceptron update rule for each sample in the training set. You should try different values for the number of training epochs and report your results."
   ]
  },
  {
   "cell_type": "markdown",
   "metadata": {},
   "source": [
    "You will implement the Perceptron classifier in the **models/Perceptron.py**\n",
    "\n",
    "The following code: \n",
    "- Creates an instance of the Perceptron classifier class \n",
    "- The train function of the Perceptron class is trained on the training data\n",
    "- We use the predict function to find the training accuracy as well as the testing accuracy\n"
   ]
  },
  {
   "cell_type": "markdown",
   "metadata": {},
   "source": [
    "## Train Perceptron on CIFAR"
   ]
  },
  {
   "cell_type": "code",
   "execution_count": 8,
   "metadata": {
    "tags": []
   },
   "outputs": [
    {
     "output_type": "stream",
     "name": "stdout",
     "text": "epoch: 0\nepoch: 1\nepoch: 2\nepoch: 3\nepoch: 4\nepoch: 5\nepoch: 6\nepoch: 7\nepoch: 8\nepoch: 9\nepoch: 10\nepoch: 11\nepoch: 12\nepoch: 13\nepoch: 14\nepoch: 15\nepoch: 16\nepoch: 17\nepoch: 18\nepoch: 19\nepoch: 20\nepoch: 21\nepoch: 22\nepoch: 23\nepoch: 24\nepoch: 25\nepoch: 26\nepoch: 27\nepoch: 28\nepoch: 29\nepoch: 30\nepoch: 31\nepoch: 32\nepoch: 33\nepoch: 34\nepoch: 35\nepoch: 36\nepoch: 37\nepoch: 38\nepoch: 39\nepoch: 40\nepoch: 41\nepoch: 42\nepoch: 43\nepoch: 44\nepoch: 45\nepoch: 46\nepoch: 47\nepoch: 48\nepoch: 49\n"
    }
   ],
   "source": [
    "lr = 0.2\n",
    "n_epochs = 50\n",
    "\n",
    "percept_CIFAR = Perceptron(n_class_CIFAR, lr, n_epochs)\n",
    "percept_CIFAR.train(X_train_CIFAR, y_train_CIFAR)"
   ]
  },
  {
   "cell_type": "code",
   "execution_count": 9,
   "metadata": {
    "tags": []
   },
   "outputs": [
    {
     "output_type": "stream",
     "name": "stdout",
     "text": "start predicting\n[6 1 9 ... 3 2 8]\n[6 9 9 ... 6 2 8]\nThe training accuracy is given by: 34.325000\n"
    }
   ],
   "source": [
    "pred_percept = percept_CIFAR.predict(X_train_CIFAR)\n",
    "print(pred_percept)\n",
    "print(y_train_CIFAR)\n",
    "print('The training accuracy is given by: %f' % (get_acc(pred_percept, y_train_CIFAR)))"
   ]
  },
  {
   "cell_type": "markdown",
   "metadata": {},
   "source": [
    "### Validate Perceptron on CIFAR"
   ]
  },
  {
   "cell_type": "code",
   "execution_count": 10,
   "metadata": {
    "tags": []
   },
   "outputs": [
    {
     "output_type": "stream",
     "name": "stdout",
     "text": "start predicting\nThe validation accuracy is given by: 29.020000\n"
    }
   ],
   "source": [
    "pred_percept = percept_CIFAR.predict(X_val_CIFAR)\n",
    "print('The validation accuracy is given by: %f' % (get_acc(pred_percept, y_val_CIFAR)))"
   ]
  },
  {
   "cell_type": "markdown",
   "metadata": {},
   "source": [
    "### Test Perceptron on CIFAR"
   ]
  },
  {
   "cell_type": "code",
   "execution_count": 11,
   "metadata": {
    "tags": []
   },
   "outputs": [
    {
     "output_type": "stream",
     "name": "stdout",
     "text": "start predicting\nThe testing accuracy is given by: 29.500000\n"
    }
   ],
   "source": [
    "pred_percept = percept_CIFAR.predict(X_test_CIFAR)\n",
    "print('The testing accuracy is given by: %f' % (get_acc(pred_percept, y_test_CIFAR)))"
   ]
  },
  {
   "cell_type": "markdown",
   "metadata": {},
   "source": [
    "### Perceptron_CIFAR Kaggle Submission\n",
    "\n",
    "Once you are satisfied with your solution and test accuracy, output a file to submit your test set predictions to the Kaggle for Assignment 1 CIFAR. Use the following code to do so:"
   ]
  },
  {
   "cell_type": "code",
   "execution_count": 12,
   "metadata": {
    "tags": []
   },
   "outputs": [
    {
     "output_type": "stream",
     "name": "stdout",
     "text": "start predicting\n"
    }
   ],
   "source": [
    "output_submission_csv('kaggle/perceptron_submission_CIFAR.csv', percept_CIFAR.predict(X_test_CIFAR))"
   ]
  },
  {
   "cell_type": "markdown",
   "metadata": {},
   "source": [
    "## Train Perceptron on Mushroom"
   ]
  },
  {
   "cell_type": "code",
   "execution_count": 13,
   "metadata": {
    "tags": []
   },
   "outputs": [
    {
     "output_type": "stream",
     "name": "stdout",
     "text": "epoch: 0\nepoch: 1\nepoch: 2\nepoch: 3\nepoch: 4\nepoch: 5\nepoch: 6\nepoch: 7\nepoch: 8\nepoch: 9\nepoch: 10\nepoch: 11\nepoch: 12\nepoch: 13\nepoch: 14\nepoch: 15\nepoch: 16\nepoch: 17\nepoch: 18\nepoch: 19\nepoch: 20\nepoch: 21\nepoch: 22\nepoch: 23\nepoch: 24\nepoch: 25\nepoch: 26\nepoch: 27\nepoch: 28\nepoch: 29\n"
    }
   ],
   "source": [
    "lr = 0.2\n",
    "n_epochs = 30\n",
    "\n",
    "percept_MR = Perceptron(n_class_MR, lr, n_epochs)\n",
    "percept_MR.train(X_train_MR, y_train_MR)"
   ]
  },
  {
   "cell_type": "code",
   "execution_count": 14,
   "metadata": {
    "tags": []
   },
   "outputs": [
    {
     "output_type": "stream",
     "name": "stdout",
     "text": "start predicting\nThe training accuracy is given by: 76.343865\n"
    }
   ],
   "source": [
    "pred_percept = percept_MR.predict(X_train_MR)\n",
    "print('The training accuracy is given by: %f' % (get_acc(pred_percept, y_train_MR)))"
   ]
  },
  {
   "cell_type": "markdown",
   "metadata": {},
   "source": [
    "### Validate Perceptron on Mushroom"
   ]
  },
  {
   "cell_type": "code",
   "execution_count": 15,
   "metadata": {
    "tags": []
   },
   "outputs": [
    {
     "output_type": "stream",
     "name": "stdout",
     "text": "start predicting\nThe validation accuracy is given by: 74.400000\n"
    }
   ],
   "source": [
    "pred_percept = percept_MR.predict(X_val_MR)\n",
    "print('The validation accuracy is given by: %f' % (get_acc(pred_percept, y_val_MR)))"
   ]
  },
  {
   "cell_type": "markdown",
   "metadata": {},
   "source": [
    "### Test Perceptron on Mushroom"
   ]
  },
  {
   "cell_type": "code",
   "execution_count": 16,
   "metadata": {
    "tags": []
   },
   "outputs": [
    {
     "output_type": "stream",
     "name": "stdout",
     "text": "start predicting\nThe testing accuracy is given by: 78.092308\n"
    }
   ],
   "source": [
    "pred_percept = percept_MR.predict(X_test_MR)\n",
    "print('The testing accuracy is given by: %f' % (get_acc(pred_percept, y_test_MR)))"
   ]
  },
  {
   "cell_type": "markdown",
   "metadata": {},
   "source": [
    "# Support Vector Machines (with SGD)"
   ]
  },
  {
   "cell_type": "markdown",
   "metadata": {},
   "source": [
    "Next, you will implement a \"soft margin\" SVM. In this formulation you will maximize the margin between positive and negative training examples and penalize margin violations using a hinge loss.\n",
    "\n",
    "We will optimize the SVM loss using SGD. This means you must compute the loss function with respect to model weights. You will use this gradient to update the model weights.\n",
    "\n",
    "SVM optimized with SGD has 3 hyperparameters that you can experiment with :\n",
    "- **Learning rate** - similar to as defined above in Perceptron, this parameter scales by how much the weights are changed according to the calculated gradient update. \n",
    "- **Epochs** - similar to as defined above in Perceptron.\n",
    "- **Regularization constant** - Hyperparameter to determine the strength of regularization. In this case it is a coefficient on the term which maximizes the margin. You could try different values. The default value is set to 0.05."
   ]
  },
  {
   "cell_type": "markdown",
   "metadata": {},
   "source": [
    "You will implement the SVM using SGD in the **models/SVM.py**\n",
    "\n",
    "The following code: \n",
    "- Creates an instance of the SVM classifier class \n",
    "- The train function of the SVM class is trained on the training data\n",
    "- We use the predict function to find the training accuracy as well as the testing accuracy"
   ]
  },
  {
   "cell_type": "markdown",
   "metadata": {},
   "source": [
    "## Train SVM on CIFAR"
   ]
  },
  {
   "cell_type": "code",
   "execution_count": 17,
   "metadata": {
    "tags": []
   },
   "outputs": [
    {
     "output_type": "stream",
     "name": "stdout",
     "text": "epoch: 0  lr: 0.1\nepoch: 1  lr: 0.05\nepoch: 2  lr: 0.016666666666666666\nepoch: 3  lr: 0.004166666666666667\nepoch: 4  lr: 0.0008333333333333333\nepoch: 5  lr: 0.0001388888888888889\nepoch: 6  lr: 1.984126984126984e-05\nepoch: 7  lr: 2.48015873015873e-06\nepoch: 8  lr: 2.755731922398589e-07\nepoch: 9  lr: 2.7557319223985888e-08\nepoch: 10  lr: 2.5052108385441715e-09\nepoch: 11  lr: 2.0876756987868096e-10\nepoch: 12  lr: 1.6059043836821613e-11\nepoch: 13  lr: 1.1470745597729724e-12\nepoch: 14  lr: 7.647163731819816e-14\nepoch: 15  lr: 4.779477332387385e-15\nepoch: 16  lr: 2.8114572543455204e-16\nepoch: 17  lr: 1.5619206968586223e-17\nepoch: 18  lr: 8.220635246624328e-19\nepoch: 19  lr: 4.110317623312164e-20\nepoch: 20  lr: 1.9572941063391257e-21\nepoch: 21  lr: 8.896791392450571e-23\nepoch: 22  lr: 3.868170170630683e-24\nepoch: 23  lr: 1.6117375710961179e-25\nepoch: 24  lr: 6.4469502843844716e-27\nepoch: 25  lr: 2.4795962632247967e-28\nepoch: 26  lr: 9.183689863795543e-30\nepoch: 27  lr: 3.279889237069837e-31\nepoch: 28  lr: 1.1309962886447713e-32\nepoch: 29  lr: 3.7699876288159044e-34\nepoch: 30  lr: 1.2161250415535175e-35\nepoch: 31  lr: 3.800390754854742e-37\nepoch: 32  lr: 1.1516335620771945e-38\nepoch: 33  lr: 3.3871575355211604e-40\nepoch: 34  lr: 9.677592958631886e-42\nepoch: 35  lr: 2.688220266286635e-43\nepoch: 36  lr: 7.265460179153068e-45\nepoch: 37  lr: 1.911963205040281e-46\nepoch: 38  lr: 4.902469756513541e-48\nepoch: 39  lr: 1.2256174391283852e-49\nepoch: 40  lr: 2.989310827142403e-51\nepoch: 41  lr: 7.117406731291436e-53\nepoch: 42  lr: 1.6552108677421945e-54\nepoch: 43  lr: 3.76184288123226e-56\nepoch: 44  lr: 8.3596508471828e-58\nepoch: 45  lr: 1.8173154015614783e-59\nepoch: 46  lr: 3.8666285139605925e-61\nepoch: 47  lr: 8.055476070751234e-63\nepoch: 48  lr: 1.6439747083165783e-64\nepoch: 49  lr: 3.2879494166331564e-66\n"
    }
   ],
   "source": [
    "lr = 0.1\n",
    "n_epochs = 50\n",
    "reg_const = 0.05\n",
    "\n",
    "svm_CIFAR = SVM(n_class_CIFAR, lr, n_epochs, reg_const)\n",
    "svm_CIFAR.train(X_train_CIFAR, y_train_CIFAR)"
   ]
  },
  {
   "cell_type": "code",
   "execution_count": 18,
   "metadata": {
    "tags": []
   },
   "outputs": [
    {
     "output_type": "stream",
     "name": "stdout",
     "text": "The training accuracy is given by: 37.110000\n"
    }
   ],
   "source": [
    "pred_svm = svm_CIFAR.predict(X_train_CIFAR)\n",
    "print('The training accuracy is given by: %f' % (get_acc(pred_svm, y_train_CIFAR)))"
   ]
  },
  {
   "cell_type": "markdown",
   "metadata": {},
   "source": [
    "### Validate SVM on CIFAR"
   ]
  },
  {
   "cell_type": "code",
   "execution_count": 19,
   "metadata": {
    "tags": []
   },
   "outputs": [
    {
     "output_type": "stream",
     "name": "stdout",
     "text": "The validation accuracy is given by: 31.600000\n"
    }
   ],
   "source": [
    "pred_svm = svm_CIFAR.predict(X_val_CIFAR)\n",
    "print('The validation accuracy is given by: %f' % (get_acc(pred_svm, y_val_CIFAR)))"
   ]
  },
  {
   "cell_type": "markdown",
   "metadata": {},
   "source": [
    "### Test SVM on CIFAR"
   ]
  },
  {
   "cell_type": "code",
   "execution_count": 20,
   "metadata": {
    "tags": []
   },
   "outputs": [
    {
     "output_type": "stream",
     "name": "stdout",
     "text": "The testing accuracy is given by: 31.740000\n"
    }
   ],
   "source": [
    "pred_svm = svm_CIFAR.predict(X_test_CIFAR)\n",
    "print('The testing accuracy is given by: %f' % (get_acc(pred_svm, y_test_CIFAR)))"
   ]
  },
  {
   "cell_type": "markdown",
   "metadata": {},
   "source": [
    "### SVM_CIFAR Kaggle Submission\n",
    "\n",
    "Once you are satisfied with your solution and test accuracy output a file to submit your test set predictions to the Kaggle for Assignment 1 CIFAR. Use the following code to do so:"
   ]
  },
  {
   "cell_type": "code",
   "execution_count": 21,
   "metadata": {},
   "outputs": [],
   "source": [
    "output_submission_csv('kaggle/svm_submission_CIFAR.csv', svm_CIFAR.predict(X_test_CIFAR))"
   ]
  },
  {
   "cell_type": "markdown",
   "metadata": {},
   "source": [
    "## Train SVM on Mushroom"
   ]
  },
  {
   "cell_type": "code",
   "execution_count": 22,
   "metadata": {
    "tags": []
   },
   "outputs": [
    {
     "output_type": "stream",
     "name": "stdout",
     "text": "epoch: 0  lr: 0.1\nepoch: 1  lr: 0.05\nepoch: 2  lr: 0.016666666666666666\nepoch: 3  lr: 0.004166666666666667\nepoch: 4  lr: 0.0008333333333333333\nepoch: 5  lr: 0.0001388888888888889\nepoch: 6  lr: 1.984126984126984e-05\nepoch: 7  lr: 2.48015873015873e-06\nepoch: 8  lr: 2.755731922398589e-07\nepoch: 9  lr: 2.7557319223985888e-08\nepoch: 10  lr: 2.5052108385441715e-09\nepoch: 11  lr: 2.0876756987868096e-10\nepoch: 12  lr: 1.6059043836821613e-11\nepoch: 13  lr: 1.1470745597729724e-12\nepoch: 14  lr: 7.647163731819816e-14\nepoch: 15  lr: 4.779477332387385e-15\nepoch: 16  lr: 2.8114572543455204e-16\nepoch: 17  lr: 1.5619206968586223e-17\nepoch: 18  lr: 8.220635246624328e-19\nepoch: 19  lr: 4.110317623312164e-20\nepoch: 20  lr: 1.9572941063391257e-21\nepoch: 21  lr: 8.896791392450571e-23\nepoch: 22  lr: 3.868170170630683e-24\nepoch: 23  lr: 1.6117375710961179e-25\nepoch: 24  lr: 6.4469502843844716e-27\nepoch: 25  lr: 2.4795962632247967e-28\nepoch: 26  lr: 9.183689863795543e-30\nepoch: 27 lr: 3.279889237069837e-31\nepoch: 28  lr: 1.1309962886447713e-32\nepoch: 29  lr: 3.7699876288159044e-34\nepoch: 30  lr: 1.2161250415535175e-35\nepoch: 31  lr: 3.800390754854742e-37\nepoch: 32  lr: 1.1516335620771945e-38\nepoch: 33  lr: 3.3871575355211604e-40\nepoch: 34  lr: 9.677592958631886e-42\nepoch: 35  lr: 2.688220266286635e-43\nepoch: 36  lr: 7.265460179153068e-45\nepoch: 37  lr: 1.911963205040281e-46\nepoch: 38  lr: 4.902469756513541e-48\nepoch: 39  lr: 1.2256174391283852e-49\nepoch: 40  lr: 2.989310827142403e-51\nepoch: 41  lr: 7.117406731291436e-53\nepoch: 42  lr: 1.6552108677421945e-54\nepoch: 43  lr: 3.76184288123226e-56\nepoch: 44  lr: 8.3596508471828e-58\nepoch: 45  lr: 1.8173154015614783e-59\nepoch: 46  lr: 3.8666285139605925e-61\nepoch: 47  lr: 8.055476070751234e-63\nepoch: 48  lr: 1.6439747083165783e-64\nepoch: 49  lr: 3.2879494166331564e-66\n"
    }
   ],
   "source": [
    "lr = 0.1\n",
    "n_epochs = 50\n",
    "reg_const = 0.05\n",
    "\n",
    "svm_MR = SVM(n_class_MR, lr, n_epochs, reg_const)\n",
    "svm_MR.train(X_train_MR, y_train_MR)"
   ]
  },
  {
   "cell_type": "code",
   "execution_count": 23,
   "metadata": {
    "tags": []
   },
   "outputs": [
    {
     "output_type": "stream",
     "name": "stdout",
     "text": "The training accuracy is given by: 92.367665\n"
    }
   ],
   "source": [
    "pred_svm = svm_MR.predict(X_train_MR)\n",
    "print('The training accuracy is given by: %f' % (get_acc(pred_svm, y_train_MR)))"
   ]
  },
  {
   "cell_type": "markdown",
   "metadata": {},
   "source": [
    "### Validate SVM on Mushroom"
   ]
  },
  {
   "cell_type": "code",
   "execution_count": 24,
   "metadata": {
    "tags": []
   },
   "outputs": [
    {
     "output_type": "stream",
     "name": "stdout",
     "text": "The validation accuracy is given by: 91.138462\n"
    }
   ],
   "source": [
    "pred_svm = svm_MR.predict(X_val_MR)\n",
    "print('The validation accuracy is given by: %f' % (get_acc(pred_svm, y_val_MR)))"
   ]
  },
  {
   "cell_type": "markdown",
   "metadata": {},
   "source": [
    "## Test SVM on Mushroom"
   ]
  },
  {
   "cell_type": "code",
   "execution_count": 25,
   "metadata": {
    "tags": []
   },
   "outputs": [
    {
     "output_type": "stream",
     "name": "stdout",
     "text": "The testing accuracy is given by: 91.138462\n"
    }
   ],
   "source": [
    "pred_svm = svm_MR.predict(X_test_MR)\n",
    "print('The testing accuracy is given by: %f' % (get_acc(pred_svm, y_test_MR)))"
   ]
  },
  {
   "cell_type": "markdown",
   "metadata": {},
   "source": [
    "# Softmax Classifier (with SGD)"
   ]
  },
  {
   "cell_type": "markdown",
   "metadata": {
    "collapsed": true
   },
   "source": [
    "Next, you will train a Softmax classifier. This classifier consists of a linear function of the input data followed by a softmax function which outputs a vector of dimension C (number of classes) for each data point. Each entry of the softmax output vector corresponds to a confidence in one of the C classes, and like a probability distribution, the entries of the output vector sum to 1. We use a cross-entropy loss on this sotmax output to train the model. \n",
    "\n",
    "Check the following link as an additional resource on softmax classification: http://cs231n.github.io/linear-classify/#softmax\n",
    "\n",
    "Once again we will train the classifier with SGD. This means you need to compute the gradients of the softmax cross-entropy loss function according to the weights and update the weights using this gradient. Check the following link to help with implementing the gradient updates: https://deepnotes.io/softmax-crossentropy"
   ]
  },
  {
   "cell_type": "markdown",
   "metadata": {},
   "source": [
    "The softmax classifier has 3 hyperparameters that you can experiment with :\n",
    "- **Learning rate** - As above, this controls how much the model weights are updated with respect to their gradient.\n",
    "- **Number of Epochs** - As described for perceptron.\n",
    "- **Regularization constant** - Hyperparameter to determine the strength of regularization. In this case, we minimize the L2 norm of the model weights as regularization, so the regularization constant is a coefficient on the L2 norm in the combined cross-entropy and regularization objective."
   ]
  },
  {
   "cell_type": "markdown",
   "metadata": {},
   "source": [
    "You will implement a softmax classifier using SGD in the **models/Softmax.py**\n",
    "\n",
    "The following code: \n",
    "- Creates an instance of the Softmax classifier class \n",
    "- The train function of the Softmax class is trained on the training data\n",
    "- We use the predict function to find the training accuracy as well as the testing accuracy"
   ]
  },
  {
   "cell_type": "markdown",
   "metadata": {},
   "source": [
    "## Train Softmax on CIFAR"
   ]
  },
  {
   "cell_type": "code",
   "execution_count": 26,
   "metadata": {
    "tags": []
   },
   "outputs": [
    {
     "output_type": "stream",
     "name": "stdout",
     "text": "epoch: 0  lr: 0.2\nepoch: 1  lr: 0.1\nepoch: 2  lr: 0.03333333333333333\nepoch: 3  lr: 0.008333333333333333\nepoch: 4  lr: 0.0016666666666666666\nepoch: 5  lr: 0.0002777777777777778\nepoch: 6  lr: 3.968253968253968e-05\nepoch: 7  lr: 4.96031746031746e-06\nepoch: 8  lr: 5.511463844797178e-07\nepoch: 9  lr: 5.5114638447971775e-08\nepoch: 10  lr: 5.010421677088343e-09\nepoch: 11  lr: 4.175351397573619e-10\nepoch: 12  lr: 3.2118087673643227e-11\nepoch: 13  lr: 2.294149119545945e-12\nepoch: 14  lr: 1.5294327463639631e-13\nepoch: 15  lr: 9.55895466477477e-15\nepoch: 16  lr: 5.622914508691041e-16\nepoch: 17  lr: 3.1238413937172447e-17\nepoch: 18  lr: 1.6441270493248656e-18\nepoch: 19  lr: 8.220635246624328e-20\nepoch: 20  lr: 3.914588212678251e-21\nepoch: 21  lr: 1.7793582784901143e-22\nepoch: 22  lr: 7.736340341261366e-24\nepoch: 23  lr: 3.2234751421922358e-25\nepoch: 24  lr: 1.2893900568768943e-26\nepoch: 25  lr: 4.959192526449593e-28\nepoch: 26  lr: 1.8367379727591086e-29\nepoch: 27  lr: 6.559778474139674e-31\nepoch: 28  lr: 2.2619925772895427e-32\nepoch: 29  lr: 7.539975257631809e-34\nepoch: 30  lr: 2.432250083107035e-35\nepoch: 31  lr: 7.600781509709484e-37\nepoch: 32  lr: 2.303267124154389e-38\nepoch: 33  lr: 6.774315071042321e-40\nepoch: 34  lr: 1.9355185917263773e-41\nepoch: 35  lr: 5.37644053257327e-43\nepoch: 36  lr: 1.4530920358306136e-44\nepoch: 37  lr: 3.823926410080562e-46\nepoch: 38  lr: 9.804939513027082e-48\nepoch: 39  lr: 2.4512348782567705e-49\nepoch: 40  lr: 5.978621654284806e-51\nepoch: 41  lr: 1.4234813462582872e-52\nepoch: 42  lr: 3.310421735484389e-54\nepoch: 43  lr: 7.52368576246452e-56\nepoch: 44  lr: 1.67193016943656e-57\nepoch: 45  lr: 3.6346308031229567e-59\nepoch: 46  lr: 7.733257027921185e-61\nepoch: 47  lr: 1.6110952141502468e-62\nepoch: 48  lr: 3.287949416633157e-64\nepoch: 49  lr: 6.575898833266313e-66\n"
    }
   ],
   "source": [
    "lr = 0.2\n",
    "n_epochs = 50\n",
    "reg_const = 0.05\n",
    "\n",
    "softmax_CIFAR = Softmax(n_class_CIFAR, lr, n_epochs, reg_const)\n",
    "softmax_CIFAR.train(X_train_CIFAR, y_train_CIFAR)"
   ]
  },
  {
   "cell_type": "code",
   "execution_count": 27,
   "metadata": {
    "tags": []
   },
   "outputs": [
    {
     "output_type": "stream",
     "name": "stdout",
     "text": "The training accuracy is given by: 39.345000\n"
    }
   ],
   "source": [
    "pred_softmax = softmax_CIFAR.predict(X_train_CIFAR)\n",
    "print('The training accuracy is given by: %f' % (get_acc(pred_softmax, y_train_CIFAR)))"
   ]
  },
  {
   "cell_type": "markdown",
   "metadata": {},
   "source": [
    "### Validate Softmax on CIFAR"
   ]
  },
  {
   "cell_type": "code",
   "execution_count": 28,
   "metadata": {
    "tags": []
   },
   "outputs": [
    {
     "output_type": "stream",
     "name": "stdout",
     "text": "The validation accuracy is given by: 30.860000\n"
    }
   ],
   "source": [
    "pred_softmax = softmax_CIFAR.predict(X_val_CIFAR)\n",
    "print('The validation accuracy is given by: %f' % (get_acc(pred_softmax, y_val_CIFAR)))"
   ]
  },
  {
   "cell_type": "markdown",
   "metadata": {},
   "source": [
    "### Testing Softmax on CIFAR"
   ]
  },
  {
   "cell_type": "code",
   "execution_count": 29,
   "metadata": {
    "tags": []
   },
   "outputs": [
    {
     "output_type": "stream",
     "name": "stdout",
     "text": "The testing accuracy is given by: 30.850000\n"
    }
   ],
   "source": [
    "pred_softmax = softmax_CIFAR.predict(X_test_CIFAR)\n",
    "print('The testing accuracy is given by: %f' % (get_acc(pred_softmax, y_test_CIFAR)))"
   ]
  },
  {
   "cell_type": "markdown",
   "metadata": {},
   "source": [
    "### Softmax_CIFAR Kaggle Submission\n",
    "\n",
    "Once you are satisfied with your solution and test accuracy output a file to submit your test set predictions to the Kaggle for Assignment 1 CIFAR. Use the following code to do so:"
   ]
  },
  {
   "cell_type": "code",
   "execution_count": 30,
   "metadata": {},
   "outputs": [],
   "source": [
    "output_submission_csv('kaggle/softmax_submission_CIFAR.csv', softmax_CIFAR.predict(X_test_CIFAR))"
   ]
  },
  {
   "cell_type": "markdown",
   "metadata": {},
   "source": [
    "## Train Softmax on Mushroom"
   ]
  },
  {
   "cell_type": "code",
   "execution_count": 31,
   "metadata": {
    "tags": []
   },
   "outputs": [
    {
     "output_type": "stream",
     "name": "stdout",
     "text": "epoch: 0  lr: 0.2\nepoch: 1  lr: 0.1\nepoch: 2  lr: 0.03333333333333333\nepoch: 3  lr: 0.008333333333333333\nepoch: 4  lr: 0.0016666666666666666\nepoch: 5  lr: 0.0002777777777777778\nepoch: 6  lr: 3.968253968253968e-05\nepoch: 7  lr: 4.96031746031746e-06\nepoch: 8  lr: 5.511463844797178e-07\nepoch: 9  lr: 5.5114638447971775e-08\nepoch: 10  lr: 5.010421677088343e-09\nepoch: 11  lr: 4.175351397573619e-10\nepoch: 12  lr: 3.2118087673643227e-11\nepoch: 13  lr: 2.294149119545945e-12\nepoch: 14  lr: 1.5294327463639631e-13\nepoch: 15  lr: 9.55895466477477e-15\nepoch: 16  lr: 5.622914508691041e-16\nepoch: 17  lr: 3.1238413937172447e-17\nepoch: 18  lr: 1.6441270493248656e-18\nepoch: 19  lr: 8.220635246624328e-20\nepoch: 20  lr: 3.914588212678251e-21\nepoch: 21  lr: 1.7793582784901143e-22\nepoch: 22  lr: 7.736340341261366e-24\nepoch: 23  lr: 3.2234751421922358e-25\nepoch: 24  lr: 1.2893900568768943e-26\nepoch: 25  lr: 4.959192526449593e-28\nepoch: 26  lr: 1.8367379727591086e-29\nepoch: 27  lr: 6.559778474139674e-31\nepoch: 28  lr: 2.2619925772895427e-32\nepoch: 29  lr: 7.539975257631809e-34\nepoch: 30  lr: 2.432250083107035e-35\nepoch: 31  lr: 7.600781509709484e-37\nepoch: 32  lr: 2.303267124154389e-38\nepoch: 33  lr: 6.774315071042321e-40\nepoch: 34  lr: 1.9355185917263773e-41\nepoch: 35  lr: 5.37644053257327e-43\nepoch: 36  lr: 1.4530920358306136e-44\nepoch: 37  lr: 3.823926410080562e-46\nepoch: 38  lr: 9.804939513027082e-48\nepoch: 39  lr: 2.4512348782567705e-49\nepoch: 40  lr: 5.978621654284806e-51\nepoch: 41  lr: 1.4234813462582872e-52\nepoch: 42  lr: 3.310421735484389e-54\nepoch: 43  lr: 7.52368576246452e-56\nepoch: 44  lr: 1.67193016943656e-57\nepoch: 45  lr: 3.6346308031229567e-59\nepoch: 46  lr: 7.733257027921185e-61\nepoch: 47  lr: 1.6110952141502468e-62\nepoch: 48  lr: 3.287949416633157e-64\nepoch: 49  lr: 6.575898833266313e-66\n"
    }
   ],
   "source": [
    "lr = 0.2\n",
    "n_epochs = 50\n",
    "reg_const = 0.05\n",
    "\n",
    "softmax_MR = Softmax(n_class_MR, lr, n_epochs, reg_const)\n",
    "softmax_MR.train(X_train_MR, y_train_MR)"
   ]
  },
  {
   "cell_type": "code",
   "execution_count": 32,
   "metadata": {
    "tags": []
   },
   "outputs": [
    {
     "output_type": "stream",
     "name": "stdout",
     "text": "The training accuracy is given by: 91.793188\n"
    }
   ],
   "source": [
    "pred_softmax = softmax_MR.predict(X_train_MR)\n",
    "print('The training accuracy is given by: %f' % (get_acc(pred_softmax, y_train_MR)))"
   ]
  },
  {
   "cell_type": "markdown",
   "metadata": {},
   "source": [
    "### Validate Softmax on Mushroom"
   ]
  },
  {
   "cell_type": "code",
   "execution_count": 33,
   "metadata": {
    "tags": []
   },
   "outputs": [
    {
     "output_type": "stream",
     "name": "stdout",
     "text": "The validation accuracy is given by: 90.646154\n"
    }
   ],
   "source": [
    "pred_softmax = softmax_MR.predict(X_val_MR)\n",
    "print('The validation accuracy is given by: %f' % (get_acc(pred_softmax, y_val_MR)))"
   ]
  },
  {
   "cell_type": "markdown",
   "metadata": {},
   "source": [
    "### Testing Softmax on Mushroom"
   ]
  },
  {
   "cell_type": "code",
   "execution_count": 34,
   "metadata": {
    "tags": []
   },
   "outputs": [
    {
     "output_type": "stream",
     "name": "stdout",
     "text": "The testing accuracy is given by: 90.646154\n"
    }
   ],
   "source": [
    "pred_softmax = softmax_MR.predict(X_test_MR)\n",
    "print('The testing accuracy is given by: %f' % (get_acc(pred_softmax, y_test_MR)))"
   ]
  },
  {
   "cell_type": "markdown",
   "metadata": {},
   "source": [
    "# Logistic Classifier"
   ]
  },
  {
   "cell_type": "markdown",
   "metadata": {},
   "source": [
    "The Logistic Classifier has 2 hyperparameters that you can experiment with:\n",
    "- **Learning rate** - similar to as defined above in Perceptron, this parameter scales by how much the weights are changed according to the calculated gradient update. \n",
    "- **Number of Epochs** - As described for perceptron.\n",
    "\n"
   ]
  },
  {
   "cell_type": "markdown",
   "metadata": {},
   "source": [
    "You will implement the Logistic Classifier in the **models/Logistic.py**\n",
    "\n",
    "The following code: \n",
    "- Creates an instance of the Logistic classifier class \n",
    "- The train function of the Logistic class is trained on the training data\n",
    "- We use the predict function to find the training accuracy as well as the testing accuracy"
   ]
  },
  {
   "cell_type": "markdown",
   "metadata": {},
   "source": [
    "### Training Logistic Classifer"
   ]
  },
  {
   "cell_type": "code",
   "execution_count": 35,
   "metadata": {
    "tags": []
   },
   "outputs": [],
   "source": [
    "learning_rate = 0.01\n",
    "n_epochs = 1500\n",
    "lr = Logistic(learning_rate, n_epochs)\n",
    "lr.train(X_train_MR, y_train_MR)"
   ]
  },
  {
   "cell_type": "code",
   "execution_count": 36,
   "metadata": {
    "tags": []
   },
   "outputs": [
    {
     "output_type": "stream",
     "name": "stdout",
     "text": "[[0.61045036 0.4091146  0.31326018 ... 0.96099011 0.94506602 0.62585008]]\nThe training accuracy is given by: 89.146492\n"
    }
   ],
   "source": [
    "pred_lr = lr.predict(X_train_MR)\n",
    "print('The training accuracy is given by: %f' % (get_acc(pred_lr, y_train_MR[:,None])))"
   ]
  },
  {
   "cell_type": "markdown",
   "metadata": {},
   "source": [
    "### Validate Logistic Classifer"
   ]
  },
  {
   "cell_type": "code",
   "execution_count": 37,
   "metadata": {
    "tags": []
   },
   "outputs": [
    {
     "output_type": "stream",
     "name": "stdout",
     "text": "[[0.9518984  0.42927357 0.01270487 ... 0.0835084  0.14920376 0.28505546]]\nThe validation accuracy is given by: 88.615385\n(1625, 1)\n(1625, 1)\n(1625,)\n"
    }
   ],
   "source": [
    "\n",
    "pred_lr = lr.predict(X_val_MR)\n",
    "print('The validation accuracy is given by: %f' % (get_acc(pred_lr, y_val_MR[:,None])))\n",
    "print(pred_lr.shape)\n",
    "print(y_test_MR[:,None].shape)\n",
    "print(y_test_MR.shape)"
   ]
  },
  {
   "cell_type": "markdown",
   "metadata": {},
   "source": [
    "### Test Logistic Classifier"
   ]
  },
  {
   "cell_type": "code",
   "execution_count": 38,
   "metadata": {
    "tags": []
   },
   "outputs": [
    {
     "output_type": "stream",
     "name": "stdout",
     "text": "[[0.32991874 0.37723564 0.13065667 ... 0.30506099 0.19599199 0.09598681]]\nThe testing accuracy is given by: 87.569231\n"
    }
   ],
   "source": [
    "pred_lr = lr.predict(X_test_MR)\n",
    "print('The testing accuracy is given by: %f' % (get_acc(pred_lr, y_test_MR[:,None])))"
   ]
  },
  {
   "cell_type": "code",
   "execution_count": null,
   "metadata": {},
   "outputs": [],
   "source": []
  }
 ],
 "metadata": {
  "kernelspec": {
   "display_name": "Python 3",
   "language": "python",
   "name": "python3"
  },
  "language_info": {
   "codemirror_mode": {
    "name": "ipython",
    "version": 3
   },
   "file_extension": ".py",
   "mimetype": "text/x-python",
   "name": "python",
   "nbconvert_exporter": "python",
   "pygments_lexer": "ipython3",
   "version": "3.7.6-final"
  }
 },
 "nbformat": 4,
 "nbformat_minor": 1
}